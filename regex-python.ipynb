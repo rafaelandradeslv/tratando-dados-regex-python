{
 "cells": [
  {
   "cell_type": "code",
   "execution_count": 2,
   "metadata": {},
   "outputs": [],
   "source": [
    "import pandas as pd\n",
    "import numpy as np\n",
    "import seaborn as sns\n",
    "import matplotlib.pyplot as plt\n",
    "\n",
    "from matplotlib import pyplot\n",
    "from matplotlib import rcParams\n",
    "\n",
    "from scipy.stats import spearmanr\n",
    "from sklearn.preprocessing import scale "
   ]
  },
  {
   "cell_type": "code",
   "execution_count": 3,
   "metadata": {},
   "outputs": [],
   "source": [
    "rcParams['figure.figsize'] = 5, 4\n",
    "sns.set_style('whitegrid')"
   ]
  },
  {
   "cell_type": "code",
   "execution_count": 4,
   "metadata": {},
   "outputs": [],
   "source": [
    "# importando dataset\n",
    "df = pd.read_csv('datahackers-survey-2019-anonymous-responses.csv')"
   ]
  },
  {
   "cell_type": "code",
   "execution_count": 5,
   "metadata": {},
   "outputs": [
    {
     "data": {
      "text/html": [
       "<div>\n",
       "<style scoped>\n",
       "    .dataframe tbody tr th:only-of-type {\n",
       "        vertical-align: middle;\n",
       "    }\n",
       "\n",
       "    .dataframe tbody tr th {\n",
       "        vertical-align: top;\n",
       "    }\n",
       "\n",
       "    .dataframe thead th {\n",
       "        text-align: right;\n",
       "    }\n",
       "</style>\n",
       "<table border=\"1\" class=\"dataframe\">\n",
       "  <thead>\n",
       "    <tr style=\"text-align: right;\">\n",
       "      <th></th>\n",
       "      <th>('P0', 'id')</th>\n",
       "      <th>('P1', 'age')</th>\n",
       "      <th>('P2', 'gender')</th>\n",
       "      <th>('P3', 'living_in_brasil')</th>\n",
       "      <th>('P5', 'living_state')</th>\n",
       "      <th>('P6', 'born_or_graduated')</th>\n",
       "      <th>('P8', 'degreee_level')</th>\n",
       "      <th>('P10', 'job_situation')</th>\n",
       "      <th>('P12', 'workers_number')</th>\n",
       "      <th>('P13', 'manager')</th>\n",
       "      <th>...</th>\n",
       "      <th>('P34', 'other')</th>\n",
       "      <th>('P35', 'data_science_plataforms_preference')</th>\n",
       "      <th>('P35', 'other')</th>\n",
       "      <th>('P36', 'draw_participation')</th>\n",
       "      <th>('D1', 'living_macroregion')</th>\n",
       "      <th>('D2', 'origin_macroregion')</th>\n",
       "      <th>('D3', 'anonymized_degree_area')</th>\n",
       "      <th>('D4', 'anonymized_market_sector')</th>\n",
       "      <th>('D5', 'anonymized_manager_level')</th>\n",
       "      <th>('D6', 'anonymized_role')</th>\n",
       "    </tr>\n",
       "  </thead>\n",
       "  <tbody>\n",
       "    <tr>\n",
       "      <th>0</th>\n",
       "      <td>v9otv8j9wdvjrv9otvwnn9owhzq54ktv</td>\n",
       "      <td>37.0</td>\n",
       "      <td>Masculino</td>\n",
       "      <td>1</td>\n",
       "      <td>Minas Gerais (MG)</td>\n",
       "      <td>1.0</td>\n",
       "      <td>Estudante de Graduação</td>\n",
       "      <td>Empregado (CTL)</td>\n",
       "      <td>de 1 a 5</td>\n",
       "      <td>0.0</td>\n",
       "      <td>...</td>\n",
       "      <td>0</td>\n",
       "      <td>Nunca fiz cursos online</td>\n",
       "      <td>NaN</td>\n",
       "      <td>1.0</td>\n",
       "      <td>Região Sudeste</td>\n",
       "      <td>NaN</td>\n",
       "      <td>Computação / Engenharia de Software / Sistemas...</td>\n",
       "      <td>Outras</td>\n",
       "      <td>NaN</td>\n",
       "      <td>Outras</td>\n",
       "    </tr>\n",
       "    <tr>\n",
       "      <th>1</th>\n",
       "      <td>875ul998t0hqcv0871uptwf3oswcfv35</td>\n",
       "      <td>24.0</td>\n",
       "      <td>Feminino</td>\n",
       "      <td>1</td>\n",
       "      <td>São Paulo (SP)</td>\n",
       "      <td>1.0</td>\n",
       "      <td>Estudante de Graduação</td>\n",
       "      <td>Empregado (CTL)</td>\n",
       "      <td>Acima de 3000</td>\n",
       "      <td>0.0</td>\n",
       "      <td>...</td>\n",
       "      <td>1</td>\n",
       "      <td>NaN</td>\n",
       "      <td>Data Science Academy</td>\n",
       "      <td>0.0</td>\n",
       "      <td>Região Sudeste</td>\n",
       "      <td>NaN</td>\n",
       "      <td>Computação / Engenharia de Software / Sistemas...</td>\n",
       "      <td>Educação</td>\n",
       "      <td>NaN</td>\n",
       "      <td>Data Analyst/Analista de Dados</td>\n",
       "    </tr>\n",
       "    <tr>\n",
       "      <th>2</th>\n",
       "      <td>puscuk079vw1pusbb900pzw2xvpxtgdk</td>\n",
       "      <td>26.0</td>\n",
       "      <td>Masculino</td>\n",
       "      <td>1</td>\n",
       "      <td>São Paulo (SP)</td>\n",
       "      <td>1.0</td>\n",
       "      <td>Graduação/Bacharelado</td>\n",
       "      <td>Empregado (CTL)</td>\n",
       "      <td>Acima de 3000</td>\n",
       "      <td>0.0</td>\n",
       "      <td>...</td>\n",
       "      <td>0</td>\n",
       "      <td>Udemy</td>\n",
       "      <td>NaN</td>\n",
       "      <td>1.0</td>\n",
       "      <td>Região Sudeste</td>\n",
       "      <td>NaN</td>\n",
       "      <td>Outras Engenharias</td>\n",
       "      <td>Indústria (Manufatura)</td>\n",
       "      <td>NaN</td>\n",
       "      <td>Outras</td>\n",
       "    </tr>\n",
       "    <tr>\n",
       "      <th>3</th>\n",
       "      <td>rmel8ewqpbffp2mnfbzermel8eqincov</td>\n",
       "      <td>21.0</td>\n",
       "      <td>Masculino</td>\n",
       "      <td>1</td>\n",
       "      <td>São Paulo (SP)</td>\n",
       "      <td>0.0</td>\n",
       "      <td>Estudante de Graduação</td>\n",
       "      <td>Estagiário</td>\n",
       "      <td>de 11 a 50</td>\n",
       "      <td>0.0</td>\n",
       "      <td>...</td>\n",
       "      <td>0</td>\n",
       "      <td>Alura</td>\n",
       "      <td>NaN</td>\n",
       "      <td>1.0</td>\n",
       "      <td>Região Sudeste</td>\n",
       "      <td>Região Sudeste</td>\n",
       "      <td>Computação / Engenharia de Software / Sistemas...</td>\n",
       "      <td>Tecnologia/Fábrica de Software</td>\n",
       "      <td>NaN</td>\n",
       "      <td>Business Intelligence/Analista de BI</td>\n",
       "    </tr>\n",
       "    <tr>\n",
       "      <th>4</th>\n",
       "      <td>pj9mgud4d6mdct1l7vq0pj9mgu78h6ju</td>\n",
       "      <td>27.0</td>\n",
       "      <td>Masculino</td>\n",
       "      <td>1</td>\n",
       "      <td>NaN</td>\n",
       "      <td>1.0</td>\n",
       "      <td>Graduação/Bacharelado</td>\n",
       "      <td>Freelancer</td>\n",
       "      <td>de 6 a 10</td>\n",
       "      <td>1.0</td>\n",
       "      <td>...</td>\n",
       "      <td>0</td>\n",
       "      <td>Udemy</td>\n",
       "      <td>NaN</td>\n",
       "      <td>1.0</td>\n",
       "      <td>NaN</td>\n",
       "      <td>NaN</td>\n",
       "      <td>Computação / Engenharia de Software / Sistemas...</td>\n",
       "      <td>Internet/Ecommerce</td>\n",
       "      <td>C-level (CDO, CIO, CTO)</td>\n",
       "      <td>NaN</td>\n",
       "    </tr>\n",
       "  </tbody>\n",
       "</table>\n",
       "<p>5 rows × 170 columns</p>\n",
       "</div>"
      ],
      "text/plain": [
       "                       ('P0', 'id')  ('P1', 'age') ('P2', 'gender')  \\\n",
       "0  v9otv8j9wdvjrv9otvwnn9owhzq54ktv           37.0        Masculino   \n",
       "1  875ul998t0hqcv0871uptwf3oswcfv35           24.0         Feminino   \n",
       "2  puscuk079vw1pusbb900pzw2xvpxtgdk           26.0        Masculino   \n",
       "3  rmel8ewqpbffp2mnfbzermel8eqincov           21.0        Masculino   \n",
       "4  pj9mgud4d6mdct1l7vq0pj9mgu78h6ju           27.0        Masculino   \n",
       "\n",
       "   ('P3', 'living_in_brasil') ('P5', 'living_state')  \\\n",
       "0                           1      Minas Gerais (MG)   \n",
       "1                           1         São Paulo (SP)   \n",
       "2                           1         São Paulo (SP)   \n",
       "3                           1         São Paulo (SP)   \n",
       "4                           1                    NaN   \n",
       "\n",
       "   ('P6', 'born_or_graduated') ('P8', 'degreee_level')  \\\n",
       "0                          1.0  Estudante de Graduação   \n",
       "1                          1.0  Estudante de Graduação   \n",
       "2                          1.0   Graduação/Bacharelado   \n",
       "3                          0.0  Estudante de Graduação   \n",
       "4                          1.0   Graduação/Bacharelado   \n",
       "\n",
       "  ('P10', 'job_situation') ('P12', 'workers_number')  ('P13', 'manager')  ...  \\\n",
       "0          Empregado (CTL)                  de 1 a 5                 0.0  ...   \n",
       "1          Empregado (CTL)             Acima de 3000                 0.0  ...   \n",
       "2          Empregado (CTL)             Acima de 3000                 0.0  ...   \n",
       "3               Estagiário                de 11 a 50                 0.0  ...   \n",
       "4               Freelancer                 de 6 a 10                 1.0  ...   \n",
       "\n",
       "  ('P34', 'other') ('P35', 'data_science_plataforms_preference')  \\\n",
       "0                0                       Nunca fiz cursos online   \n",
       "1                1                                           NaN   \n",
       "2                0                                         Udemy   \n",
       "3                0                                         Alura   \n",
       "4                0                                         Udemy   \n",
       "\n",
       "       ('P35', 'other')  ('P36', 'draw_participation')  \\\n",
       "0                   NaN                            1.0   \n",
       "1  Data Science Academy                            0.0   \n",
       "2                   NaN                            1.0   \n",
       "3                   NaN                            1.0   \n",
       "4                   NaN                            1.0   \n",
       "\n",
       "   ('D1', 'living_macroregion')  ('D2', 'origin_macroregion')  \\\n",
       "0                Região Sudeste                           NaN   \n",
       "1                Região Sudeste                           NaN   \n",
       "2                Região Sudeste                           NaN   \n",
       "3                Região Sudeste                Região Sudeste   \n",
       "4                           NaN                           NaN   \n",
       "\n",
       "                    ('D3', 'anonymized_degree_area')  \\\n",
       "0  Computação / Engenharia de Software / Sistemas...   \n",
       "1  Computação / Engenharia de Software / Sistemas...   \n",
       "2                                 Outras Engenharias   \n",
       "3  Computação / Engenharia de Software / Sistemas...   \n",
       "4  Computação / Engenharia de Software / Sistemas...   \n",
       "\n",
       "   ('D4', 'anonymized_market_sector')  ('D5', 'anonymized_manager_level')  \\\n",
       "0                              Outras                                 NaN   \n",
       "1                            Educação                                 NaN   \n",
       "2              Indústria (Manufatura)                                 NaN   \n",
       "3      Tecnologia/Fábrica de Software                                 NaN   \n",
       "4                  Internet/Ecommerce             C-level (CDO, CIO, CTO)   \n",
       "\n",
       "              ('D6', 'anonymized_role')  \n",
       "0                                Outras  \n",
       "1        Data Analyst/Analista de Dados  \n",
       "2                                Outras  \n",
       "3  Business Intelligence/Analista de BI  \n",
       "4                                   NaN  \n",
       "\n",
       "[5 rows x 170 columns]"
      ]
     },
     "execution_count": 5,
     "metadata": {},
     "output_type": "execute_result"
    }
   ],
   "source": [
    "df.head()"
   ]
  },
  {
   "cell_type": "code",
   "execution_count": 6,
   "metadata": {},
   "outputs": [],
   "source": [
    "# faixa de salário \n",
    "faixa_de_salario = df[\"('P16', 'salary_range')\"]\n",
    "# idade\n",
    "idade = df[\"('P1', 'age')\"]\n",
    "# tipo de trabalho\n",
    "tipo_de_trabalho = df[\"('P10', 'job_situation')\"]"
   ]
  },
  {
   "cell_type": "code",
   "execution_count": 21,
   "metadata": {},
   "outputs": [
    {
     "data": {
      "text/html": [
       "<div>\n",
       "<style scoped>\n",
       "    .dataframe tbody tr th:only-of-type {\n",
       "        vertical-align: middle;\n",
       "    }\n",
       "\n",
       "    .dataframe tbody tr th {\n",
       "        vertical-align: top;\n",
       "    }\n",
       "\n",
       "    .dataframe thead th {\n",
       "        text-align: right;\n",
       "    }\n",
       "</style>\n",
       "<table border=\"1\" class=\"dataframe\">\n",
       "  <thead>\n",
       "    <tr style=\"text-align: right;\">\n",
       "      <th></th>\n",
       "      <th>idade</th>\n",
       "      <th>sitação de trabalho</th>\n",
       "      <th>salario</th>\n",
       "    </tr>\n",
       "  </thead>\n",
       "  <tbody>\n",
       "    <tr>\n",
       "      <th>0</th>\n",
       "      <td>37.0</td>\n",
       "      <td>Empregado (CTL)</td>\n",
       "      <td>de R$ 1.001/mês a R$ 2.000/mês</td>\n",
       "    </tr>\n",
       "    <tr>\n",
       "      <th>1</th>\n",
       "      <td>24.0</td>\n",
       "      <td>Empregado (CTL)</td>\n",
       "      <td>de R$ 2.001/mês a R$ 3000/mês</td>\n",
       "    </tr>\n",
       "    <tr>\n",
       "      <th>2</th>\n",
       "      <td>26.0</td>\n",
       "      <td>Empregado (CTL)</td>\n",
       "      <td>de R$ 4.001/mês a R$ 6.000/mês</td>\n",
       "    </tr>\n",
       "    <tr>\n",
       "      <th>3</th>\n",
       "      <td>21.0</td>\n",
       "      <td>Estagiário</td>\n",
       "      <td>de R$ 1.001/mês a R$ 2.000/mês</td>\n",
       "    </tr>\n",
       "    <tr>\n",
       "      <th>4</th>\n",
       "      <td>27.0</td>\n",
       "      <td>Freelancer</td>\n",
       "      <td>de R$ 6.001/mês a R$ 8.000/mês</td>\n",
       "    </tr>\n",
       "  </tbody>\n",
       "</table>\n",
       "</div>"
      ],
      "text/plain": [
       "   idade sitação de trabalho                         salario\n",
       "0   37.0     Empregado (CTL)  de R$ 1.001/mês a R$ 2.000/mês\n",
       "1   24.0     Empregado (CTL)   de R$ 2.001/mês a R$ 3000/mês\n",
       "2   26.0     Empregado (CTL)  de R$ 4.001/mês a R$ 6.000/mês\n",
       "3   21.0          Estagiário  de R$ 1.001/mês a R$ 2.000/mês\n",
       "4   27.0          Freelancer  de R$ 6.001/mês a R$ 8.000/mês"
      ]
     },
     "execution_count": 21,
     "metadata": {},
     "output_type": "execute_result"
    }
   ],
   "source": [
    "lista_dados = {\n",
    "               'idade': idade,\n",
    "               'sitação de trabalho': tipo_de_trabalho, \n",
    "               'salario': faixa_de_salario\n",
    "              }\n",
    "\n",
    "df_dados = pd.DataFrame(data = lista_dados)\n",
    "df_dados.head()"
   ]
  },
  {
   "cell_type": "code",
   "execution_count": 32,
   "metadata": {},
   "outputs": [],
   "source": [
    "import re\n",
    "\n",
    "x = 0\n",
    "lista_media_de_salario = []\n",
    "while x < len(faixa_de_salario):\n",
    "    try:\n",
    "        salario = faixa_de_salario[x]\n",
    "        n = [float(s) for s in re.findall(r'-?\\d+\\.?\\d*', salario)]\n",
    "        n1 = n[0] * 1000\n",
    "        n2 = n[1] * 1000\n",
    "        salario_medio = (n1 + n2) / 2\n",
    "        lista_media_de_salario.append(salario_medio)\n",
    "    except:\n",
    "        if pd.isna(faixa_de_salario[x]) == True:\n",
    "            salario_medio = 0\n",
    "            lista_media_de_salario.append(salario_medio)\n",
    "        else:\n",
    "            salario_medio = 1000\n",
    "            lista_media_de_salario.append(salario_medio)\n",
    "\n",
    "    x += 1\n",
    "\n",
    "new_dataset = {'idade': idade.values, \n",
    "               'tipo_de_trabalho': tipo_de_trabalho.values,\n",
    "               'salario_medio': lista_media_de_salario}\n",
    "\n",
    "df2 = pd.DataFrame(data=new_dataset)\n",
    "\n",
    "df2.loc[df2['salario_medio'] == 1501000.5, 'salario_medio'] = 1500.5"
   ]
  },
  {
   "cell_type": "code",
   "execution_count": 33,
   "metadata": {},
   "outputs": [
    {
     "name": "stdout",
     "output_type": "stream",
     "text": [
      "<class 'pandas.core.frame.DataFrame'>\n",
      "RangeIndex: 1765 entries, 0 to 1764\n",
      "Data columns (total 3 columns):\n",
      " #   Column            Non-Null Count  Dtype  \n",
      "---  ------            --------------  -----  \n",
      " 0   idade             1741 non-null   float64\n",
      " 1   tipo_de_trabalho  1765 non-null   object \n",
      " 2   salario_medio     1765 non-null   float64\n",
      "dtypes: float64(2), object(1)\n",
      "memory usage: 41.5+ KB\n"
     ]
    }
   ],
   "source": [
    "# visualizando informações\n",
    "df2.info()"
   ]
  },
  {
   "cell_type": "code",
   "execution_count": 34,
   "metadata": {},
   "outputs": [
    {
     "data": {
      "text/plain": [
       "idade               24\n",
       "tipo_de_trabalho     0\n",
       "salario_medio        0\n",
       "dtype: int64"
      ]
     },
     "execution_count": 34,
     "metadata": {},
     "output_type": "execute_result"
    }
   ],
   "source": [
    "# somando valores nulos\n",
    "df2.isnull().sum()"
   ]
  },
  {
   "cell_type": "code",
   "execution_count": 35,
   "metadata": {},
   "outputs": [
    {
     "data": {
      "text/plain": [
       "idade               0\n",
       "tipo_de_trabalho    0\n",
       "salario_medio       0\n",
       "dtype: int64"
      ]
     },
     "execution_count": 35,
     "metadata": {},
     "output_type": "execute_result"
    }
   ],
   "source": [
    "# removendo valores nulos\n",
    "df2.dropna(inplace=True)\n",
    "df2.isnull().sum()"
   ]
  },
  {
   "cell_type": "code",
   "execution_count": 36,
   "metadata": {
    "scrolled": true
   },
   "outputs": [
    {
     "data": {
      "text/plain": [
       "idade                 int64\n",
       "tipo_de_trabalho     object\n",
       "salario_medio       float64\n",
       "dtype: object"
      ]
     },
     "execution_count": 36,
     "metadata": {},
     "output_type": "execute_result"
    }
   ],
   "source": [
    "# convertendo idade para inteiro\n",
    "df2['idade'] = df2['idade'].astype('int64')\n",
    "df2.dtypes"
   ]
  },
  {
   "cell_type": "code",
   "execution_count": 37,
   "metadata": {},
   "outputs": [
    {
     "data": {
      "text/html": [
       "<div>\n",
       "<style scoped>\n",
       "    .dataframe tbody tr th:only-of-type {\n",
       "        vertical-align: middle;\n",
       "    }\n",
       "\n",
       "    .dataframe tbody tr th {\n",
       "        vertical-align: top;\n",
       "    }\n",
       "\n",
       "    .dataframe thead th {\n",
       "        text-align: right;\n",
       "    }\n",
       "</style>\n",
       "<table border=\"1\" class=\"dataframe\">\n",
       "  <thead>\n",
       "    <tr style=\"text-align: right;\">\n",
       "      <th></th>\n",
       "      <th>idade</th>\n",
       "      <th>tipo_de_trabalho</th>\n",
       "      <th>salario_medio</th>\n",
       "    </tr>\n",
       "  </thead>\n",
       "  <tbody>\n",
       "    <tr>\n",
       "      <th>0</th>\n",
       "      <td>37</td>\n",
       "      <td>Empregado (CTL)</td>\n",
       "      <td>1500.5</td>\n",
       "    </tr>\n",
       "    <tr>\n",
       "      <th>1</th>\n",
       "      <td>24</td>\n",
       "      <td>Empregado (CTL)</td>\n",
       "      <td>1500.5</td>\n",
       "    </tr>\n",
       "    <tr>\n",
       "      <th>2</th>\n",
       "      <td>26</td>\n",
       "      <td>Empregado (CTL)</td>\n",
       "      <td>5000.5</td>\n",
       "    </tr>\n",
       "    <tr>\n",
       "      <th>3</th>\n",
       "      <td>21</td>\n",
       "      <td>Estagiário</td>\n",
       "      <td>1500.5</td>\n",
       "    </tr>\n",
       "    <tr>\n",
       "      <th>4</th>\n",
       "      <td>27</td>\n",
       "      <td>Freelancer</td>\n",
       "      <td>7000.5</td>\n",
       "    </tr>\n",
       "  </tbody>\n",
       "</table>\n",
       "</div>"
      ],
      "text/plain": [
       "   idade tipo_de_trabalho  salario_medio\n",
       "0     37  Empregado (CTL)         1500.5\n",
       "1     24  Empregado (CTL)         1500.5\n",
       "2     26  Empregado (CTL)         5000.5\n",
       "3     21       Estagiário         1500.5\n",
       "4     27       Freelancer         7000.5"
      ]
     },
     "execution_count": 37,
     "metadata": {},
     "output_type": "execute_result"
    }
   ],
   "source": [
    "df2.head()"
   ]
  },
  {
   "cell_type": "code",
   "execution_count": 38,
   "metadata": {},
   "outputs": [
    {
     "data": {
      "text/plain": [
       "22500.5"
      ]
     },
     "execution_count": 38,
     "metadata": {},
     "output_type": "execute_result"
    }
   ],
   "source": [
    "# maior salário\n",
    "df2['salario_medio'].max()"
   ]
  },
  {
   "cell_type": "code",
   "execution_count": 39,
   "metadata": {},
   "outputs": [
    {
     "data": {
      "text/plain": [
       "(array([119., 280., 338., 312., 235., 226.,  98.,  59.,  39.,  35.]),\n",
       " array([18. , 21.2, 24.4, 27.6, 30.8, 34. , 37.2, 40.4, 43.6, 46.8, 50. ]),\n",
       " <BarContainer object of 10 artists>)"
      ]
     },
     "execution_count": 39,
     "metadata": {},
     "output_type": "execute_result"
    },
    {
     "data": {
      "image/png": "[encoded data removed]",
      "text/plain": [
       "<Figure size 360x288 with 1 Axes>"
      ]
     },
     "metadata": {},
     "output_type": "display_data"
    }
   ],
   "source": [
    "plt.hist(df2['idade'])"
   ]
  },
  {
   "cell_type": "code",
   "execution_count": 40,
   "metadata": {},
   "outputs": [
    {
     "data": {
      "image/png": "[encoded data removed]",
      "text/plain": [
       "<Figure size 360x288 with 1 Axes>"
      ]
     },
     "metadata": {},
     "output_type": "display_data"
    }
   ],
   "source": [
    "plt.hist(df2['salario_medio'])\n",
    "plt.show()"
   ]
  },
  {
   "cell_type": "code",
   "execution_count": 41,
   "metadata": {},
   "outputs": [
    {
     "data": {
      "text/plain": [
       "Empregado (CTL)                                  1066\n",
       "Empreendedor ou Empregado (CNPJ)                  224\n",
       "Estagiário                                        131\n",
       "Somente Estudante (graduação)                      85\n",
       "Desempregado, buscando recolocação                 66\n",
       "Servidor Público                                   58\n",
       "Trabalho na área Acadêmica/Pesquisador             45\n",
       "Somente Estudante (pós-graduação)                  36\n",
       "Freelancer                                         21\n",
       "Prefiro não dizer                                   6\n",
       "Desempregado e não estou buscando recolocação       3\n",
       "Name: tipo_de_trabalho, dtype: int64"
      ]
     },
     "execution_count": 41,
     "metadata": {},
     "output_type": "execute_result"
    }
   ],
   "source": [
    "df2['tipo_de_trabalho'].value_counts()"
   ]
  },
  {
   "cell_type": "code",
   "execution_count": 21,
   "metadata": {},
   "outputs": [
    {
     "data": {
      "text/plain": [
       "(1741, 3)"
      ]
     },
     "execution_count": 21,
     "metadata": {},
     "output_type": "execute_result"
    }
   ],
   "source": [
    "df2.shape"
   ]
  },
  {
   "cell_type": "code",
   "execution_count": 42,
   "metadata": {},
   "outputs": [],
   "source": [
    "x = ['idade']\n",
    "y = ['salario_medio']"
   ]
  },
  {
   "cell_type": "code",
   "execution_count": 43,
   "metadata": {},
   "outputs": [
    {
     "data": {
      "image/png": "[encoded data removed]",
      "text/plain": [
       "<Figure size 1152x576 with 1 Axes>"
      ]
     },
     "metadata": {},
     "output_type": "display_data"
    }
   ],
   "source": [
    "# Criando gráfico.\n",
    "ax = sns.catplot(data = df2, \n",
    "            x = df2[\"idade\"], \n",
    "            y = df2[\"salario_medio\"], \n",
    "            kind = \"bar\",\n",
    "            height = 8,\n",
    "            aspect = 2,\n",
    "            legend = False)\n",
    "\n",
    "# Adicionando os detalhes fundamentais.\n",
    "\n",
    "ax.set_axis_labels(x_var = \"IDADES\", y_var = \"FAIXA SALÁRIO\", fontsize = 30)\n",
    "ax.set_xticklabels(fontsize= 18)\n",
    "ax.set_yticklabels(fontsize= 18)\n",
    "ax.fig.suptitle(\"FAIXA DE SALÁRIO POR IDADE\", fontsize = 40, weight = \"bold\")\n",
    "plt.show()\n",
    "ax.savefig('faixa_salario_por_idade.png')"
   ]
  },
  {
   "cell_type": "code",
   "execution_count": null,
   "metadata": {},
   "outputs": [],
   "source": []
  },
  {
   "cell_type": "code",
   "execution_count": null,
   "metadata": {},
   "outputs": [],
   "source": []
  },
  {
   "cell_type": "code",
   "execution_count": null,
   "metadata": {},
   "outputs": [],
   "source": []
  }
 ],
 "metadata": {
  "kernelspec": {
   "display_name": "Python 3",
   "language": "python",
   "name": "python3"
  },
  "language_info": {
   "codemirror_mode": {
    "name": "ipython",
    "version": 3
   },
   "file_extension": ".py",
   "mimetype": "text/x-python",
   "name": "python",
   "nbconvert_exporter": "python",
   "pygments_lexer": "ipython3",
   "version": "3.8.8"
  },
  "latex_envs": {
   "LaTeX_envs_menu_present": true,
   "autoclose": false,
   "autocomplete": true,
   "bibliofile": "biblio.bib",
   "cite_by": "apalike",
   "current_citInitial": 1,
   "eqLabelWithNumbers": true,
   "eqNumInitial": 1,
   "hotkeys": {
    "equation": "Ctrl-E",
    "itemize": "Ctrl-I"
   },
   "labels_anchors": false,
   "latex_user_defs": false,
   "report_style_numbering": false,
   "user_envs_cfg": false
  },
  "toc": {
   "base_numbering": 1,
   "nav_menu": {},
   "number_sections": true,
   "sideBar": true,
   "skip_h1_title": false,
   "title_cell": "Table of Contents",
   "title_sidebar": "Contents",
   "toc_cell": false,
   "toc_position": {},
   "toc_section_display": true,
   "toc_window_display": false
  },
  "varInspector": {
   "cols": {
    "lenName": 16,
    "lenType": 16,
    "lenVar": 40
   },
   "kernels_config": {
    "python": {
     "delete_cmd_postfix": "",
     "delete_cmd_prefix": "del ",
     "library": "var_list.py",
     "varRefreshCmd": "print(var_dic_list())"
    },
    "r": {
     "delete_cmd_postfix": ") ",
     "delete_cmd_prefix": "rm(",
     "library": "var_list.r",
     "varRefreshCmd": "cat(var_dic_list()) "
    }
   },
   "types_to_exclude": [
    "module",
    "function",
    "builtin_function_or_method",
    "instance",
    "_Feature"
   ],
   "window_display": false
  }
 },
 "nbformat": 4,
 "nbformat_minor": 4
}
